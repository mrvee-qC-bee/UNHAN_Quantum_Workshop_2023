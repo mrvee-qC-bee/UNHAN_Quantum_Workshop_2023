{
 "cells": [
  {
   "cell_type": "markdown",
   "id": "cc2bafde-00da-4739-a5d6-535ccef62fe4",
   "metadata": {},
   "source": [
    "# Qiskit & IBM Quantum Workshop\n"
   ]
  },
  {
   "cell_type": "markdown",
   "id": "4cc63713-bdf6-44d5-a74a-eb94d63f779f",
   "metadata": {
    "slideshow": {
     "slide_type": "slide"
    }
   },
   "source": [
    "\n",
    "This tutorial was adapted from notebooks by: _Abby Mitchell - Quantum Developer Advocate (https://abbymitchell.dev) IBM Quantum_ and from _Kevin Sung - Qiskit Researcher, IBM Quantum_"
   ]
  },
  {
   "cell_type": "markdown",
   "id": "842f3f6b-01f4-4a23-a844-24c8dfede22e",
   "metadata": {
    "tags": []
   },
   "source": [
    "# How to Use this Notebook in your IBM Quantum Lab Account\n"
   ]
  },
  {
   "cell_type": "markdown",
   "id": "baccd268-cc28-46af-90fd-d0c4f02c70bd",
   "metadata": {
    "tags": []
   },
   "source": [
    "\n",
    "1. Go to http://qisk.it/UNHAN2023 for the workshop resources\n",
    "\n",
    "<img src=\"qr-code.png\" width=300>\n",
    "\n",
    "2. Click 'raw' button in GitHub, this will open the notebook file in a new tab\n",
    "\n",
    "<img src=\"raw_button.png\" width=600>\n",
    "\n",
    "3. Right click on the raw file and save the file in jupyter notebook format (`.ipynb`)\n",
    "\n",
    "<img src=\"save.png\" width=600>\n",
    "\n",
    "4. In IBM Quantum Lab, select upload button on in top left and upload the notebook file\n",
    "\n",
    "<img src=\"upload_button.png\" width=600>\n",
    "\n",
    "5. If you didn't save it in `.ipynb` format you can rename the file in the jupyter lab\n",
    "\n",
    "<img src=\"rename_button.png\" width=600>\n",
    "\n",
    "6. Now you can open the notebook in your IBM Quantum Lab environment! (note: if you want the images to display in your lab version you will need to download them from the github folder where the notebook is and upload it into your lab folder as well)\n",
    "\n",
    "<img src=\"open_notebook.png\" width=600>\n"
   ]
  },
  {
   "cell_type": "markdown",
   "id": "98946d84-b28f-465f-acf3-4441cd483b9a",
   "metadata": {
    "tags": []
   },
   "source": [
    "# Goal: Show you the toolbox - Breadth, not depth!"
   ]
  },
  {
   "cell_type": "markdown",
   "id": "2068a1c8-3986-4a3b-88f3-6a282e77ce73",
   "metadata": {
    "tags": []
   },
   "source": [
    "# Qiskit overview: Main Packages\n"
   ]
  },
  {
   "cell_type": "markdown",
   "id": "59c80884-089b-4110-9e5c-9edba7964e35",
   "metadata": {
    "jp-MarkdownHeadingCollapsed": true,
    "tags": []
   },
   "source": [
    "\n",
    "![](qiskit_overview.png)\n",
    "\n"
   ]
  },
  {
   "cell_type": "markdown",
   "id": "b12d366d-44aa-44c0-b317-aa51d6917683",
   "metadata": {
    "tags": []
   },
   "source": [
    "\n",
    "\n",
    "# Qiskit 102: Learning to use Qiskit\n",
    "\n",
    "The fundamental unit you will primarily work with in Qiskit is the `QuantumCircuit` object. The basic workflow to using Qiskit consists of two stages: build and execute. Building involves making different quantum circuits which represent the problem/algorithm you are solving. Executing takes care of the, well, *execution* of those circuits as a job or set of jobs to be run on either real or simulated hardware. After the jobs have been run, the data is collected and must be postprocessed depending on the desired output.  We can do most of this post-processing using Qiskit Runtime.\n",
    "\n",
    "## Qiskit Runtime Overview\n",
    "![](runtime-architecture.png)\n",
    "\n",
    "\n",
    "Qiskit Runtime is a cloud-based quantum computing service developed by IBM. It offers computational primitives to perform foundational quantum computing tasks that use built-in error suppression and mitigation techniques. Primitives can be executed inside of sessions, allowing collections of circuits to be jointly run on a quantum computer without being interrupted by other users’ jobs. The combination of primitives, error suppression / mitigation, and sessions paves the way to efficiently build and execute scalable quantum applications.\n",
    "\n",
    "\n",
    "---\n",
    "\n",
    "## Getting Started\n",
    "\n",
    "The Qiskit packages you will need to get started are:\n",
    "\n",
    "- `qiskit`\n",
    "- `qiskit-ibm-runtime`\n",
    "- `numpy` (optional)\n",
    "- `matplotlib` (optional)\n",
    "\n",
    "We'll first walk through the anatomy of a `QuantumCircuit` object and the process of using primitives.\n"
   ]
  },
  {
   "cell_type": "code",
   "execution_count": 1,
   "id": "a46ad4c8-f8c4-450f-97ef-fe79de92d00c",
   "metadata": {
    "tags": []
   },
   "outputs": [
    {
     "data": {
      "text/html": [
       "<h3>Version Information</h3><table><tr><th>Software</th><th>Version</th></tr><tr><td><code>qiskit</code></td><td>0.44.3</td></tr><tr><td><code>qiskit-terra</code></td><td>0.25.3</td></tr><tr><th colspan='2'>System information</th></tr><tr><td>Python version</td><td>3.10.8</td></tr><tr><td>Python compiler</td><td>GCC 10.4.0</td></tr><tr><td>Python build</td><td>main, Nov 22 2022 08:26:04</td></tr><tr><td>OS</td><td>Linux</td></tr><tr><td>CPUs</td><td>8</td></tr><tr><td>Memory (Gb)</td><td>31.142555236816406</td></tr><tr><td colspan='2'>Fri Dec 15 03:42:25 2023 UTC</td></tr></table>"
      ],
      "text/plain": [
       "<IPython.core.display.HTML object>"
      ]
     },
     "metadata": {},
     "output_type": "display_data"
    }
   ],
   "source": [
    "#make sure your qiskit version is up to date\n",
    "import qiskit.tools.jupyter\n",
    "%qiskit_version_table"
   ]
  },
  {
   "cell_type": "markdown",
   "id": "7c445a4e-734f-417a-9d4b-e763734e41bf",
   "metadata": {},
   "source": [
    "### Key concepts"
   ]
  },
  {
   "cell_type": "markdown",
   "id": "307afff3-29dd-43b6-955e-89d87514cf26",
   "metadata": {},
   "source": [
    "**Primitives**\n",
    "\n",
    "Primitives are base level operations that serve as building blocks for many quantum algorithms and applications. Through these primitives, users can obtain high-fidelity results, without needing detailed hardware knowledge.  This abstraction allows you to write code, using Qiskit algorithms or otherwise, that can run on different quantum hardware or simulators without having to explicitly manage aspects such as compilation, optimization, and error suppression / mitigation. The primitives offered by `qiskit_ibm_runtime <https://qiskit.org/ecosystem/ibm-runtime/apidocs/ibm-runtime.html>`__ add additional options specific to IBM services. See `Introduction to primitives <primitives.html>`__ for further details.\n",
    "\n",
    "There are currently two primitives defined in Qiskit: Estimator and Sampler.\n",
    "\n",
    "\n",
    "**Estimator**\n",
    "\n",
    "The estimator primitive allows you to efficiently calculate and interpret expectation values of quantum operators; the values of interest for many near-term quantum algorithms. You specify circuits that prepare quantum states and then Pauli-basis observables to measure on those states. The estimator can use advanced error suppression and mitigation capabilities to improve the accuracy of the returned expectation values.\n",
    "\n",
    "**Sampler**\n",
    "\n",
    "This primitive takes circuits as input and returns a quasi-probability distribution over the measurement outcomes. This generalizes histograms from quantum circuits, allowing for mitigation of readout errors.\n",
    "\n",
    "**Error suppression / mitigation**\n",
    "\n",
    "While building a fault-tolerant quantum computation is the ultimate goal, at present, calculations performed on near-term quantum computers are susceptible to noise.  Qiskit Runtime offers a number of methods for preventing errors before they occur (error suppression techniques) and dealing with those that do occur (error mitigation techniques).  \n",
    "\n",
    "**Session**\n",
    "\n",
    "A session allows a collection of jobs to be grouped and jointly scheduled by the Qiskit Runtime service, facilitating iterative use of quantum computers without incurring queuing delays on each iteration. This eliminates artificial delays caused by other users’ jobs running on the same quantum device during the session. See `Introduction to sessions <sessions.html>`__ for further details.\n"
   ]
  },
  {
   "cell_type": "markdown",
   "id": "077c81bb-9012-41be-a4f8-940fc256ad5a",
   "metadata": {
    "tags": []
   },
   "source": [
    "# Time for some code! (finally!)"
   ]
  },
  {
   "cell_type": "markdown",
   "id": "20fdc8ed-b0a1-49c3-9ea6-6e74b65c5736",
   "metadata": {
    "tags": []
   },
   "source": [
    "## Simple Examples:"
   ]
  },
  {
   "cell_type": "markdown",
   "id": "92bf589a-9c6c-44ef-9a78-7546486bb49d",
   "metadata": {
    "slideshow": {
     "slide_type": "slide"
    }
   },
   "source": [
    "## 0.1 Building the circuit \n",
    "\n",
    "The basic element needed for your first program is the QuantumCircuit. We begin by creating a QuantumCircuit comprised of two qubits."
   ]
  },
  {
   "cell_type": "code",
   "execution_count": 2,
   "id": "a9358007-9010-4faf-bc30-f4c25ebfb2ee",
   "metadata": {
    "slideshow": {
     "slide_type": "subslide"
    },
    "tags": []
   },
   "outputs": [
    {
     "name": "stdout",
     "output_type": "stream",
     "text": [
      "     \n",
      "q_0: \n",
      "     \n",
      "q_1: \n",
      "     \n"
     ]
    }
   ],
   "source": [
    "from qiskit import QuantumCircuit\n",
    "\n",
    "# Create a Quantum Circuit acting on a quantum register of two qubits\n",
    "circ = QuantumCircuit(2)\n",
    "print(circ)"
   ]
  },
  {
   "cell_type": "markdown",
   "id": "6adb203e-7b8e-4245-8a12-52fd15a5a44f",
   "metadata": {
    "slideshow": {
     "slide_type": "subslide"
    },
    "tags": []
   },
   "source": [
    "## 0.2 Adding Gates\n",
    "\n",
    "We can then add gates to the circuit. We start with a Hadamard gate acting on qubit $0$ and then add a $C_X$ (CNOT) gate using $0$ as the control qubit and $1$ as the target. "
   ]
  },
  {
   "cell_type": "code",
   "execution_count": 3,
   "id": "793944a1-9575-4706-a8e2-c44ffab10372",
   "metadata": {
    "slideshow": {
     "slide_type": "subslide"
    },
    "tags": []
   },
   "outputs": [
    {
     "data": {
      "text/plain": [
       "<qiskit.circuit.instructionset.InstructionSet at 0x7fd2590c6f50>"
      ]
     },
     "execution_count": 3,
     "metadata": {},
     "output_type": "execute_result"
    }
   ],
   "source": [
    "# Add a H gate on qubit 0, putting this qubit in superposition.\n",
    "circ.h(0)\n",
    "# Add a CX (CNOT) gate on control qubit 0 and target qubit 1, putting\n",
    "# the qubits in a Bell state.\n",
    "circ.cx(0, 1)"
   ]
  },
  {
   "cell_type": "markdown",
   "id": "b3e5e404-4eb5-4b1e-90ad-cbde345fea91",
   "metadata": {
    "slideshow": {
     "slide_type": "subslide"
    }
   },
   "source": [
    "## 0.3 Circuit Visualization\n",
    "\n",
    "You can visualize your circuit using the `QuantumCircuit.draw()` method, which plots the circuit in the form found in many textbooks."
   ]
  },
  {
   "cell_type": "code",
   "execution_count": 4,
   "id": "3bcb2ae4-be85-45e1-9942-7d576d9ddc2d",
   "metadata": {
    "slideshow": {
     "slide_type": "subslide"
    },
    "tags": []
   },
   "outputs": [
    {
     "name": "stderr",
     "output_type": "stream",
     "text": [
      "/opt/conda/lib/python3.10/site-packages/qiskit/visualization/circuit/matplotlib.py:282: UserWarning: Style JSON file 'iqp.json' not found in any of these locations: /opt/conda/lib/python3.10/site-packages/qiskit/visualization/circuit/styles/iqp.json, iqp.json. Will use default style.\n",
      "  self._style, def_font_ratio = load_style(self._style)\n"
     ]
    },
    {
     "data": {
      "image/png": "[encoded data removed]",
      "text/plain": [
       "<Figure size 287.294x200.667 with 1 Axes>"
      ]
     },
     "execution_count": 4,
     "metadata": {},
     "output_type": "execute_result"
    }
   ],
   "source": [
    "circ.draw('mpl', style=\"iqp\")"
   ]
  },
  {
   "cell_type": "code",
   "execution_count": 5,
   "id": "b296c013-2ae0-488c-8574-c4b6bd7dc571",
   "metadata": {
    "slideshow": {
     "slide_type": "subslide"
    },
    "tags": []
   },
   "outputs": [
    {
     "data": {
      "image/png": "[encoded data removed]",
      "text/plain": [
       "<Figure size 287.294x200.667 with 1 Axes>"
      ]
     },
     "execution_count": 5,
     "metadata": {},
     "output_type": "execute_result"
    }
   ],
   "source": [
    "#One can also draw this as an ascii drawing\n",
    "circ.draw()"
   ]
  },
  {
   "cell_type": "markdown",
   "id": "8d7c1bed-c79a-48ce-8b95-7392c7473507",
   "metadata": {
    "slideshow": {
     "slide_type": "subslide"
    }
   },
   "source": [
    "\n",
    "A few of the basic gates which can be added to a quantum circuit are the:\n",
    "\n",
    "* Pauli $X$, $Y$, $Z$ gates - `.x()` `.y()`\n",
    "* Hadamard $H$ gate \n",
    "* $S$ (or $\\pi/2$) phase gate\n",
    "* $T$ (or $\\pi/4$) phase gate\n",
    "* Controlled-NOT (or Controlled-$X$) gate - `.cx`\n",
    "* Controlled-$H$ gate - `.ch`\n",
    "* CCX or Toffoli gate - `.ccx`\n",
    "\n",
    "among many others.  See the documentation for the full list of supported gates."
   ]
  },
  {
   "cell_type": "markdown",
   "id": "46917891-8dce-4f0f-9707-b0bb60af107c",
   "metadata": {
    "tags": []
   },
   "source": [
    "# 1.0 Using Primitives\n",
    "\n",
    "There are two main approaches within Qiskit to execute and measure your quantum circuits called `Primitives`.  The first is the `Estimator` which computes the expectation values of observables.  Users generally specify a list of circuits, observables, and a few other optional configurations, with which the program can efficiently evaluate expectation values and variances.  The second is the `Sampler` primitive which with calculate the probabilities (or quasi-probabilities if using error mitigation) of bitstrings from quantum circuits.\n",
    "\n",
    "Primitives work most effectively when they are supported by both Qiskit and the backend provider. The Qiskit module qiskit.primitives provides the required support on the Qiskit side, and providers like IBM Qiskit Runtime enable access to appropriate backends through native implementations of their own primitives.\n",
    "\n",
    "We'll learn to use these objects by utilizing a small example circuit which will fully entangle two qubits together and then measure them.\n",
    "\n",
    " we'll demonstrate using the `Sampler` primitive (both the `qiskit.primitives` version as well as the managed `qiskit-ibm-runtime` version).  Recall the `Sampler` is primarily useful for when you want to measure (quasi-)probability distributions.  We'll use the same quantum circuit, `qc` which prepares a Bell state (i.e., fully entangle two-qubits together).\n"
   ]
  },
  {
   "cell_type": "code",
   "execution_count": 6,
   "id": "205d0ef1-b194-4eb2-bda5-9b1a498b6d6b",
   "metadata": {
    "tags": []
   },
   "outputs": [
    {
     "data": {
      "image/png": "[encoded data removed]",
      "text/plain": [
       "<Figure size 580.387x284.278 with 1 Axes>"
      ]
     },
     "execution_count": 6,
     "metadata": {},
     "output_type": "execute_result"
    }
   ],
   "source": [
    "from qiskit.primitives import Sampler\n",
    "\n",
    "#Instantiate a new Sampler object\n",
    "sampler = Sampler()\n",
    "\n",
    "\n",
    "#We'll also need to add measurement\n",
    "circ = QuantumCircuit(2)\n",
    "\n",
    "circ.h(0)\n",
    "circ.cx(0, 1)\n",
    "# Insert measurements on all qubits\n",
    "circ.measure_all()\n",
    "circ.draw('mpl', style='iqp')\n"
   ]
  },
  {
   "cell_type": "code",
   "execution_count": 7,
   "id": "329133e9-8f92-4f80-8101-68a395e5a3a0",
   "metadata": {
    "tags": []
   },
   "outputs": [
    {
     "name": "stdout",
     "output_type": "stream",
     "text": [
      "Job Result:\n",
      ">>> SamplerResult(quasi_dists=[{0: 0.4999999999999999, 3: 0.4999999999999999}], metadata=[{}])\n",
      "  > Quasi-probability distribution (integer): {0: 0.4999999999999999, 3: 0.4999999999999999}\n",
      "  > Quasi-probability distribution (bits): {'00': 0.4999999999999999, '11': 0.4999999999999999}\n",
      "  > Metadata: {}\n"
     ]
    }
   ],
   "source": [
    "# Now run the job and examine the results\n",
    "sampler_job = sampler.run(circ)\n",
    "result = sampler_job.result()\n",
    "print(f\"Job Result:\\n>>> {result}\")\n",
    "print(f\"  > Quasi-probability distribution (integer): {result.quasi_dists[0]}\")\n",
    "print(f\"  > Quasi-probability distribution (bits): {result.quasi_dists[0].binary_probabilities(2)}\")\n",
    "print(f\"  > Metadata: {result.metadata[0]}\")"
   ]
  },
  {
   "cell_type": "code",
   "execution_count": 8,
   "id": "fc90c66b-948a-4a2f-9061-8794931ef3af",
   "metadata": {
    "tags": []
   },
   "outputs": [
    {
     "data": {
      "image/png": "[encoded data removed]",
      "text/plain": [
       "<Figure size 700x500 with 1 Axes>"
      ]
     },
     "execution_count": 8,
     "metadata": {},
     "output_type": "execute_result"
    }
   ],
   "source": [
    "from qiskit.tools.visualization import plot_distribution\n",
    "\n",
    "prob_distribution = sampler_job.result().quasi_dists[0].binary_probabilities()\n",
    "\n",
    "plot_distribution(prob_distribution)"
   ]
  },
  {
   "cell_type": "markdown",
   "id": "66a2d85f-aa49-48d8-978c-25f154faf991",
   "metadata": {},
   "source": [
    "\n",
    "---\n",
    "\n",
    "\n",
    "Next we'll use the Runtime Sampler to run our circuit on a backend.  Recall that we still need to specify an `IBMBackend` object through the `QisktiRuntimeService`."
   ]
  },
  {
   "cell_type": "code",
   "execution_count": 113,
   "id": "97d10af2-e658-4b6c-949a-179ab9ae6bd0",
   "metadata": {
    "tags": []
   },
   "outputs": [],
   "source": [
    "from qiskit_ibm_runtime import QiskitRuntimeService, Sampler, Session\n",
    " \n",
    "#Initialize a QiskitRuntimeService object\n",
    "service = QiskitRuntimeService()\n",
    "\n",
    "#We will use the 127-qubit ibm_nazca or 133-qubit ibm_torino backend\n",
    "backend = service.get_backend('ibm_cusco')\n",
    "\n",
    "session = Session(service=service, backend=backend)\n",
    "# sampler = Sampler(backend=backend)\n",
    "sampler = Sampler(session=session)"
   ]
  },
  {
   "cell_type": "code",
   "execution_count": 114,
   "id": "303c4aed-70eb-4067-a26a-ec17a70b3803",
   "metadata": {
    "tags": []
   },
   "outputs": [
    {
     "name": "stderr",
     "output_type": "stream",
     "text": [
      "base_primitive._run_primitive:INFO:2023-12-15 04:20:41,608: Submitting job using options {'optimization_level': 3, 'resilience_level': 1, 'max_execution_time': None, 'transpilation': {'skip_transpilation': False, 'initial_layout': None, 'layout_method': None, 'routing_method': None, 'approximation_degree': None, 'optimization_settings': {'level': 3}, 'coupling_map': None, 'basis_gates': None}, 'resilience': {'noise_amplifier': 'TwoQubitAmplifier', 'noise_factors': (1, 3, 5), 'extrapolator': 'LinearExtrapolator', 'level': 1}, 'execution': {'shots': 4000, 'init_qubits': True, 'noise_model': None, 'seed_simulator': None}, 'environment': {'log_level': 'WARNING', 'callback': None, 'job_tags': []}, 'simulator': {'noise_model': None, 'seed_simulator': None, 'coupling_map': None, 'basis_gates': None}}\n"
     ]
    },
    {
     "name": "stdout",
     "output_type": "stream",
     "text": [
      ">>> Job ID: cnxx86gbtqp000871keg\n",
      ">>> Session ID: cnxx86gbtqp000871keg\n",
      ">>> Job Status: JobStatus.QUEUED\n"
     ]
    }
   ],
   "source": [
    "job = sampler.run(circ)\n",
    "print(f\">>> Job ID: {job.job_id()}\")\n",
    "print(f\">>> Session ID: {job.session_id}\")\n",
    "print(f\">>> Job Status: {job.status()}\")"
   ]
  },
  {
   "cell_type": "markdown",
   "id": "cccb2152-93a7-4795-8e08-76ae1fd83e71",
   "metadata": {},
   "source": [
    "We can also obtain a previous result in the same way as the `Estimator`."
   ]
  },
  {
   "cell_type": "code",
   "execution_count": 115,
   "id": "7cd8e46f-4dac-4948-85ef-d0e0af1a9e6f",
   "metadata": {
    "tags": []
   },
   "outputs": [
    {
     "name": "stdout",
     "output_type": "stream",
     "text": [
      ">>> Job Status: JobStatus.DONE\n"
     ]
    }
   ],
   "source": [
    "# Use a job id from a previous result\n",
    "job = service.job(\"cnxwrpjmbjng0081zhc0\")\n",
    "print(f\">>> Job Status: {job.status()}\")"
   ]
  },
  {
   "cell_type": "code",
   "execution_count": 116,
   "id": "21a04e4e-110a-45e1-9852-9b78e3d64756",
   "metadata": {
    "tags": []
   },
   "outputs": [
    {
     "name": "stdout",
     "output_type": "stream",
     "text": [
      "Job Result:\n",
      ">>> SamplerResult(quasi_dists=[{0: 0.5967178646963287, 1: -0.0360676025620483, 2: -0.044060158876869385, 3: 0.483409896742589}], metadata=[{'shots': 4000, 'circuit_metadata': {}, 'readout_mitigation_overhead': 1.9860579541460641, 'readout_mitigation_time': 0.010091734118759632, 'warning': 'Optimization level clipped from 3 to 1'}])\n",
      "  > Quasi-probability distribution (integer): {0: 0.5967178646963287, 1: -0.0360676025620483, 2: -0.044060158876869385, 3: 0.483409896742589}\n",
      "  > Quasi-probability distribution (bits): {'00': 0.5967178646963287, '01': -0.0360676025620483, '10': -0.044060158876869385, '11': 0.483409896742589}\n",
      "  > Metadata: {'shots': 4000, 'circuit_metadata': {}, 'readout_mitigation_overhead': 1.9860579541460641, 'readout_mitigation_time': 0.010091734118759632, 'warning': 'Optimization level clipped from 3 to 1'}\n"
     ]
    }
   ],
   "source": [
    "result = job.result()\n",
    "print(f\"Job Result:\\n>>> {result}\")\n",
    "print(f\"  > Quasi-probability distribution (integer): {result.quasi_dists[0]}\")\n",
    "print(f\"  > Quasi-probability distribution (bits): {result.quasi_dists[0].binary_probabilities(2)}\")\n",
    "print(f\"  > Metadata: {result.metadata[0]}\")"
   ]
  },
  {
   "cell_type": "markdown",
   "id": "6ca266f2-94a5-4e74-b32f-37d2638e24c5",
   "metadata": {},
   "source": [
    "We're also able to visualize the probability distribution of this circuit on a histogram.  Plotting this gives us a quick visual tool to help us understand what the states with the highest measurement probability are. "
   ]
  },
  {
   "cell_type": "code",
   "execution_count": 118,
   "id": "f1399f49-4a24-4e32-9bc1-fb1d66db9a8b",
   "metadata": {
    "tags": []
   },
   "outputs": [
    {
     "data": {
      "image/png": "[encoded data removed]",
      "text/plain": [
       "<Figure size 700x500 with 1 Axes>"
      ]
     },
     "execution_count": 118,
     "metadata": {},
     "output_type": "execute_result"
    }
   ],
   "source": [
    "from qiskit.visualization import plot_distribution\n",
    "\n",
    "import matplotlib.pyplot as plt\n",
    "plt.style.use('dark_background')\n",
    "\n",
    "#plot_distribution(result.quasi_dists[0])\n",
    "plot_distribution([result.quasi_dists[0].binary_probabilities(2),prob_distribution])"
   ]
  },
  {
   "cell_type": "markdown",
   "id": "04dba0ba-4daa-449d-9b87-5e09d7327b33",
   "metadata": {},
   "source": [
    "## 1.1 The Estimator Primitive"
   ]
  },
  {
   "cell_type": "markdown",
   "id": "f51cecda-f6b1-4b9c-9ef9-47b2d4b67e8d",
   "metadata": {
    "slideshow": {
     "slide_type": "slide"
    }
   },
   "source": [
    "Let's begin with understanding how to use the `Estimator` primitive.  To start, we'll need to define the observable(s) we want to measure the expectation values of.  They can be constructed from any `BaseOperator` object, like the operators from `qiskit.quantum_info`.  For this example we'll use the `qiskit.quantum_info.SparesPauliOp` object.  We'll construct four observables to measure our entangling circuit, $\\langle II +XX -YY + ZZ\\rangle$."
   ]
  },
  {
   "cell_type": "code",
   "execution_count": 37,
   "id": "2242bb0d-6071-4b0d-95a0-c28694256694",
   "metadata": {
    "slideshow": {
     "slide_type": "fragment"
    },
    "tags": []
   },
   "outputs": [
    {
     "name": "stderr",
     "output_type": "stream",
     "text": [
      "/opt/conda/lib/python3.10/site-packages/qiskit/visualization/circuit/matplotlib.py:282: UserWarning: Style JSON file 'iqp.json' not found in any of these locations: /opt/conda/lib/python3.10/site-packages/qiskit/visualization/circuit/styles/iqp.json, iqp.json. Will use default style.\n",
      "  self._style, def_font_ratio = load_style(self._style)\n"
     ]
    },
    {
     "data": {
      "image/png": "[encoded data removed]",
      "text/plain": [
       "<Figure size 305.323x284.278 with 1 Axes>"
      ]
     },
     "execution_count": 37,
     "metadata": {},
     "output_type": "execute_result"
    }
   ],
   "source": [
    "from qiskit import QuantumRegister, ClassicalRegister\n",
    "\n",
    "#Create the circuit\n",
    "qr = QuantumRegister(2)\n",
    "cr = ClassicalRegister(2)\n",
    "\n",
    "qc = QuantumCircuit(qr, cr)\n",
    "# we can also write \"qc = QuantumCircuit(2,2)\"\n",
    "\n",
    "#Add the hadamard and CNOT gates to the circuit\n",
    "qc.h(0)\n",
    "qc.cx(0, 1)\n",
    "\n",
    "qc.draw('mpl', style=\"iqp\")"
   ]
  },
  {
   "cell_type": "code",
   "execution_count": 84,
   "id": "11cb313b-593b-443d-b3a2-d33e443b2bdd",
   "metadata": {
    "slideshow": {
     "slide_type": "fragment"
    },
    "tags": []
   },
   "outputs": [],
   "source": [
    "# Import the SparesPauliOp class and create our observables variable\n",
    "from qiskit.quantum_info import SparsePauliOp\n",
    " \n",
    "observable = SparsePauliOp([\"II\", \"XX\", \"YY\", \"ZZ\"], coeffs=[1, 1, -1, 1])\n",
    "\n",
    "# Import qiskit primitives\n",
    "from qiskit.primitives import Estimator\n",
    "\n",
    "estimator = Estimator()\n"
   ]
  },
  {
   "cell_type": "markdown",
   "id": "c4e8db7c-6230-41c5-a08f-9a8849f3a227",
   "metadata": {},
   "source": [
    "Once the observable and `Estimator` object are defined, we can go ahead and run our estimation by calling the `qiskit.primitives.Estimator.run()` method."
   ]
  },
  {
   "cell_type": "code",
   "execution_count": 85,
   "id": "83e44631-0efe-462d-856a-d69aa55a8fab",
   "metadata": {
    "tags": []
   },
   "outputs": [
    {
     "name": "stdout",
     "output_type": "stream",
     "text": [
      "EstimatorResult(values=array([4.]), metadata=[{}])\n",
      "Expectation Value of <II+XX-YY+ZZ> = 4.000\n"
     ]
    }
   ],
   "source": [
    "\n",
    "job = estimator.run(qc, observable)\n",
    "result_exact = job.result()\n",
    "print(result_exact)\n",
    "print(f\"Expectation Value of <II+XX-YY+ZZ> = {result_exact.values[0]:.3f}\")\n"
   ]
  },
  {
   "cell_type": "markdown",
   "id": "8c36fef6-70b5-46d4-a9df-5749d68f808f",
   "metadata": {
    "tags": []
   },
   "source": [
    "### 1.1.1 Using the Runtime Estimator\n",
    "\n",
    "A subtle difference here is that there are actually *two* `Estimator` objects in our environment.  One within `qiskit.primitives` and one within our ecosystem package `qiskit-ibm-runtime`.  The Runtime Primitives are best used for submitting jobs to a backend while the Qiskit Primitives are useful for doing sanity checks on your workflows and ensuring everything is working as intended.\n",
    "\n",
    "We'll now execute this circuit using the Runtime Service.  To do so, we'll need to initialize a `QiskitRuntimeService` object and select a backend to run the circuit on.  For this example we'll use the 127-qubit `ibm_nazca` backend.  We'll then instantiate a new `Estimator` object from the Runtime package. We have two options here: we can instantiate the `Estimator` object with the `backend`, *or* we can start a `Session` that we can send multiple jobs to without waiting in the queue for subsequent jobs, and pass the `Session` object to the `Estimator`.\n",
    "\n"
   ]
  },
  {
   "cell_type": "code",
   "execution_count": 55,
   "id": "ac862e67-40c7-4c2a-84fa-5a7e2123cb35",
   "metadata": {
    "slideshow": {
     "slide_type": "fragment"
    },
    "tags": []
   },
   "outputs": [],
   "source": [
    "from qiskit_ibm_runtime import Estimator, Session\n",
    "\n",
    "#Initialize a QiskitRuntimeService object\n",
    "service = QiskitRuntimeService()\n",
    "\n",
    "#We will use the 127-qubit ibm_nazca backend\n",
    "backend = service.get_backend('ibm_torino')\n",
    "\n",
    "# create a Runtime session for efficient execution (optional)\n",
    "session = Session(service=service, backend=backend)\n",
    "\n",
    "# estimator = Estimator(backend=backend) \n",
    "estimator = Estimator(session=session)"
   ]
  },
  {
   "cell_type": "markdown",
   "id": "b53a3f5a-5843-45cf-a756-f5ea70bf12c7",
   "metadata": {},
   "source": [
    "The access your institution has obtained will determine which backends are available to you.  You can list all of your available backends and obtain information about its status, the number of pending jobs, and detailed configuration information."
   ]
  },
  {
   "cell_type": "code",
   "execution_count": 56,
   "id": "c73055d1-a548-4f56-ad60-95fd7248e4a7",
   "metadata": {
    "tags": []
   },
   "outputs": [
    {
     "name": "stdout",
     "output_type": "stream",
     "text": [
      "Operational?: True \n",
      " Jobs in Queue: 1\n",
      "\n",
      "################################################################ \n",
      "Configuration for: ibm_torino, version: 1.0.1\n",
      "  Number of Qubits: 133\n",
      "  Basis Gates: ['cz', 'id', 'rz', 'sx', 'x']\n",
      "  OpenPulse Enabled: True\n"
     ]
    }
   ],
   "source": [
    "#Here we can get some status information about the backend\n",
    "status = backend.status()\n",
    "is_operational = status.operational\n",
    "jobs_in_queue = status.pending_jobs\n",
    "print('Operational?: {} \\n Jobs in Queue: {}\\n'.format(is_operational, jobs_in_queue))\n",
    "\n",
    "\n",
    "# We can also obtain some configuration information\n",
    "config = backend.configuration()\n",
    "print(64*\"#\",\"\\nConfiguration for: {}, version: {}\".format(config.backend_name, config.backend_version))\n",
    "print(\"  Number of Qubits: {}\".format(config.n_qubits))\n",
    "print(\"  Basis Gates: {}\".format(config.basis_gates))\n",
    "print(\"  OpenPulse Enabled: {}\".format(config.open_pulse))"
   ]
  },
  {
   "cell_type": "markdown",
   "id": "d8c52446-de93-46d7-91aa-b9d9e5457404",
   "metadata": {},
   "source": [
    "\n",
    "---\n",
    "\n",
    "Now we'll run our job on the hardware.  We can get also get some information about its status while we wait"
   ]
  },
  {
   "cell_type": "code",
   "execution_count": 57,
   "id": "fb55e5a9-3d5a-44b0-bb0a-1e393df23f84",
   "metadata": {
    "tags": []
   },
   "outputs": [
    {
     "name": "stderr",
     "output_type": "stream",
     "text": [
      "base_primitive._run_primitive:INFO:2023-12-15 03:59:41,646: Submitting job using options {'optimization_level': 3, 'resilience_level': 1, 'max_execution_time': None, 'transpilation': {'skip_transpilation': False, 'initial_layout': None, 'layout_method': None, 'routing_method': None, 'approximation_degree': None, 'optimization_settings': {'level': 3}, 'coupling_map': None, 'basis_gates': None}, 'resilience': {'noise_amplifier': 'TwoQubitAmplifier', 'noise_factors': (1, 3, 5), 'extrapolator': 'LinearExtrapolator', 'level': 1}, 'execution': {'shots': 4000, 'init_qubits': True, 'noise_model': None, 'seed_simulator': None}, 'environment': {'log_level': 'WARNING', 'callback': None, 'job_tags': []}, 'simulator': {'noise_model': None, 'seed_simulator': None, 'coupling_map': None, 'basis_gates': None}}\n"
     ]
    },
    {
     "name": "stdout",
     "output_type": "stream",
     "text": [
      ">>> Job ID: cnxwybhja3gg0085f6f0\n",
      ">>> Session ID: cnxwybhja3gg0085f6f0\n",
      ">>> Job Status: JobStatus.QUEUED\n"
     ]
    }
   ],
   "source": [
    "job = estimator.run(qc, observable)\n",
    "print(f\">>> Job ID: {job.job_id()}\")\n",
    "print(f\">>> Session ID: {job.session_id}\")\n",
    "print(f\">>> Job Status: {job.status()}\")"
   ]
  },
  {
   "cell_type": "markdown",
   "id": "415f78b0-784e-486d-a8e3-8684e5377d82",
   "metadata": {},
   "source": [
    "We can also check on the status on the online platform: [https://quantum-computing.ibm.com/jobs](https://quantum-computing.ibm.com/jobs)\n",
    "\n",
    "Another useful feature is to be able to pull data from previous jobs you've run if you're running analysis on your results in a separate notebook or python script.  All that's needed is the Job ID"
   ]
  },
  {
   "cell_type": "code",
   "execution_count": 58,
   "id": "aaa26338-c417-4e07-8c0d-7fe341fb26d1",
   "metadata": {
    "tags": []
   },
   "outputs": [
    {
     "name": "stdout",
     "output_type": "stream",
     "text": [
      ">>> Job Status: JobStatus.DONE\n"
     ]
    }
   ],
   "source": [
    "# Use a job id from a previous result\n",
    "job = service.job(\"cnxwwhtmbjng0081zhxg\")\n",
    "print(f\">>> Job Status: {job.status()}\")"
   ]
  },
  {
   "cell_type": "code",
   "execution_count": 59,
   "id": "a48960da-2e0b-4216-a52e-73a647f2cd95",
   "metadata": {
    "tags": []
   },
   "outputs": [
    {
     "name": "stdout",
     "output_type": "stream",
     "text": [
      ">>> EstimatorResult(values=array([2.30988168]), metadata=[{'variance': 0.0, 'shots': 4000, 'readout_mitigation_num_twirled_circuits': 16, 'readout_mitigation_shots_calibration': 8192, 'warning': 'Optimization level clipped from 3 to 1'}])\n",
      "  > Expectation value: 2.3098816757275342\n",
      "  > Metadata: {'variance': 0.0, 'shots': 4000, 'readout_mitigation_num_twirled_circuits': 16, 'readout_mitigation_shots_calibration': 8192, 'warning': 'Optimization level clipped from 3 to 1'}\n"
     ]
    }
   ],
   "source": [
    "#Examine our results once the job has completed\n",
    "result = job.result()\n",
    "print(f\">>> {result}\")\n",
    "print(f\"  > Expectation value: {result.values[0]}\")\n",
    "print(f\"  > Metadata: {result.metadata[0]}\")"
   ]
  },
  {
   "cell_type": "code",
   "execution_count": 111,
   "id": "fd5c4256-66e2-4c4f-ae4d-a87eddc3b73f",
   "metadata": {
    "tags": []
   },
   "outputs": [
    {
     "data": {
      "image/png": "[encoded data removed]",
      "text/plain": [
       "<Figure size 640x480 with 1 Axes>"
      ]
     },
     "metadata": {},
     "output_type": "display_data"
    }
   ],
   "source": [
    "from qiskit.visualization import plot_histogram\n",
    "\n",
    "import matplotlib.pyplot as plt\n",
    "plt.style.use('dark_background')\n",
    "\n",
    "data = {\"Ideal\": result_exact.values[0],\"Result\": result.values[0]}\n",
    "plt.bar(range(len(data)), data.values(), align='center', color = \"#7793f2\")\n",
    "plt.xticks(range(len(data)), list(data.keys()))\n",
    "\n",
    "plt.show()"
   ]
  },
  {
   "cell_type": "markdown",
   "id": "bea425ec-62a0-4589-a20d-c6a415c75895",
   "metadata": {},
   "source": [
    "## 2. Transpilation & Error Mitigation\n",
    "\n",
    "Oftentimes, the quantum circuits constructed for utility scale algorithms are not well optimized to run on noisy quantum hardware.  In fact, it may even be important to post-process your results using error mitigation techniques.  Fortunately, there are a few ways to implement both error mitigation as well as optimizations of your quantum circuits.\n",
    "\n",
    "The first is to simply set a few Runtime configuration options; specifically the `optimization_level` and `resilience_level`.  These are both managed and included in a Runtime Primitive using the `Options` object.\n",
    "\n",
    "The options for `optimization_level` are:\n",
    "\n",
    "| Optimization Level | Estimator & Sampler |\n",
    "| :--- | :--- |\n",
    "| 0 | No optimization: typically used for hardware characterization or debugging <br />    - Basis translation <br /> - Layout (`TrivialLayout`: virtual -> physical)  <br /> - Routing: `StochasticSwap` |\n",
    "| 1, 2, 3 | Light optimization: (TODO: update this w/ current docs) <br /> - Layout (trivial → vf2 → SabreLayout if routing is required) <br /> - Routing (SabreSwap if needed) <br /> - 1Q gate optimization <br /> - Error suppression: dynamical decoupling |\n",
    "\n",
    "\n",
    "And the options for `resilience_level` are different between the `Sampler` and `Estimator` primitives\n",
    "\n",
    "| Resilience Level | Definition | Estimator | Sampler |\n",
    "| :--- | :--- | :--- | :---\n",
    "|0 | No mitigation\t| None | None |\n",
    "|1 [Default] |\tMinimal mitigation costs: Mitigate error associated with readout errors | Twirled Readout Error eXtinction (TREX interpreted-text readout errors )\t| M3 |\n",
    "| 2 | Medium mitigation costs. Typically reduces bias in estimators, but is not guaranteed to be zero bias. | Zero Noise Extrapolation (ZNE interpreted-text) |\t- |\n",
    "| 3| Heavy mitigation with layer sampling. Theoretically expected to deliver zero bias estimators. | Probabilistic Error cancelation (PEC interpreted-text)\t| - |\n",
    "\n",
    "\n",
    "Let's look at a quick example"
   ]
  },
  {
   "cell_type": "code",
   "execution_count": 60,
   "id": "0a0a6012-4f9e-43ca-9e53-47223072aadc",
   "metadata": {
    "tags": []
   },
   "outputs": [],
   "source": [
    "from qiskit_ibm_runtime import Options\n",
    "\n",
    "\n",
    "# To set our resilience and optimization level we need to create this `Options` object\n",
    "options = Options()\n",
    "options.resilience_level = 2\n",
    "options.optimization_level = 3"
   ]
  },
  {
   "cell_type": "code",
   "execution_count": 61,
   "id": "b11fbeac-bed3-47ee-85db-63d01693207b",
   "metadata": {
    "tags": []
   },
   "outputs": [],
   "source": [
    "# We'll prepare the same example circuit as before\n",
    "qr = QuantumRegister(2)\n",
    "cr = ClassicalRegister(2)\n",
    "\n",
    "qc = QuantumCircuit(qr, cr)\n",
    "# we can also write \"qc = QuantumCircuit(2,2)\"\n",
    "\n",
    "#Add the hadamard and CNOT gates to the circuit\n",
    "qc.h(0)\n",
    "qc.cx(0, 1)\n",
    "\n",
    "\n",
    "# We'll also instantiate a new Runtime Estimator() object\n",
    "# estimator = Estimator(options=options, backend=backend)\n",
    "estimator = Estimator(options=options, session=session)\n",
    "\n",
    "# and use the same observable as before\n",
    "observable = SparsePauliOp([\"II\", \"XX\", \"YY\", \"ZZ\"], coeffs=[1, 1, -1, 1])\n"
   ]
  },
  {
   "cell_type": "code",
   "execution_count": 62,
   "id": "88ffaa93-aea0-4402-b636-450016b627ba",
   "metadata": {
    "tags": []
   },
   "outputs": [
    {
     "name": "stderr",
     "output_type": "stream",
     "text": [
      "base_primitive._run_primitive:INFO:2023-12-15 03:59:45,785: Submitting job using options {'optimization_level': 3, 'resilience_level': 2, 'max_execution_time': None, 'transpilation': {'skip_transpilation': False, 'initial_layout': None, 'layout_method': None, 'routing_method': None, 'approximation_degree': None, 'optimization_settings': {'level': 3}, 'coupling_map': None, 'basis_gates': None}, 'resilience': {'noise_amplifier': 'TwoQubitAmplifier', 'noise_factors': (1, 3, 5), 'extrapolator': 'LinearExtrapolator', 'level': 2}, 'execution': {'shots': 4000, 'init_qubits': True, 'noise_model': None, 'seed_simulator': None}, 'environment': {'log_level': 'WARNING', 'callback': None, 'job_tags': []}, 'simulator': {'noise_model': None, 'seed_simulator': None, 'coupling_map': None, 'basis_gates': None}}\n"
     ]
    },
    {
     "name": "stdout",
     "output_type": "stream",
     "text": [
      ">>> Job ID: cnxwychmbjng0081zj50\n",
      ">>> Session ID: cnxwybhja3gg0085f6f0\n",
      ">>> Job Status: JobStatus.QUEUED\n"
     ]
    }
   ],
   "source": [
    "job = estimator.run(circuits=qc, observables=observable)\n",
    "print(f\">>> Job ID: {job.job_id()}\")\n",
    "print(f\">>> Session ID: {job.session_id}\")\n",
    "print(f\">>> Job Status: {job.status()}\")"
   ]
  },
  {
   "cell_type": "code",
   "execution_count": 63,
   "id": "fecf8ad1-6b36-45d2-87c4-ebdbe8fb0268",
   "metadata": {
    "tags": []
   },
   "outputs": [
    {
     "name": "stdout",
     "output_type": "stream",
     "text": [
      ">>> Job Status: JobStatus.DONE\n"
     ]
    }
   ],
   "source": [
    "# Use a job id from a previous result\n",
    "job = service.job(\"cnxwx04ja3gg0085f6cg\")\n",
    "print(f\">>> Job Status: {job.status()}\")"
   ]
  },
  {
   "cell_type": "code",
   "execution_count": 64,
   "id": "7af00ddb-6e3a-42b0-8626-5a8b92550b8f",
   "metadata": {
    "tags": []
   },
   "outputs": [
    {
     "name": "stdout",
     "output_type": "stream",
     "text": [
      ">>> EstimatorResult(values=array([3.358375]), metadata=[{'zne': {'noise_amplification': {'noise_amplifier': \"<TwoQubitAmplifier:{'noise_factor_relative_tolerance': 0.01, 'random_seed': None, 'sub_folding_option': 'from_first'}>\", 'noise_factors': [1, 3, 5], 'values': [3.3285, 3.3125, 3.2439999999999998], 'variance': [1.18621975, 1.2111857499999998, 1.3032494999999997], 'shots': [4000, 4000, 4000]}, 'extrapolation': {'extrapolator': 'LinearExtrapolator'}}, 'warning': 'Optimization level clipped from 3 to 1'}])\n",
      "  > Expectation value: 3.3583750000000023\n",
      "  > Metadata: {'zne': {'noise_amplification': {'noise_amplifier': \"<TwoQubitAmplifier:{'noise_factor_relative_tolerance': 0.01, 'random_seed': None, 'sub_folding_option': 'from_first'}>\", 'noise_factors': [1, 3, 5], 'values': [3.3285, 3.3125, 3.2439999999999998], 'variance': [1.18621975, 1.2111857499999998, 1.3032494999999997], 'shots': [4000, 4000, 4000]}, 'extrapolation': {'extrapolator': 'LinearExtrapolator'}}, 'warning': 'Optimization level clipped from 3 to 1'}\n"
     ]
    }
   ],
   "source": [
    "#Examine our results once the job has completed\n",
    "result_mitigated = job.result()\n",
    "print(f\">>> {result_mitigated}\")\n",
    "print(f\"  > Expectation value: {result_mitigated.values[0]}\")\n",
    "print(f\"  > Metadata: {result_mitigated.metadata[0]}\")"
   ]
  },
  {
   "cell_type": "code",
   "execution_count": 110,
   "id": "f1ea1c5e-fbdc-4bf5-8797-27f23e1e9042",
   "metadata": {
    "tags": []
   },
   "outputs": [
    {
     "data": {
      "image/png": "[encoded data removed]",
      "text/plain": [
       "<Figure size 640x480 with 1 Axes>"
      ]
     },
     "metadata": {},
     "output_type": "display_data"
    }
   ],
   "source": [
    "from qiskit.visualization import plot_histogram\n",
    "\n",
    "import matplotlib.pyplot as plt\n",
    "plt.style.use('dark_background')\n",
    "\n",
    "data = {\"Ideal\": result_exact.values[0],\"Result\": result.values[0],\"Mitigated result\": result_mitigated.values[0]}\n",
    "plt.bar(range(len(data)), data.values(), align='center', color = \"#7793f2\")\n",
    "plt.xticks(range(len(data)), list(data.keys()))\n",
    "\n",
    "plt.show()"
   ]
  },
  {
   "cell_type": "code",
   "execution_count": 52,
   "id": "6269f205-f85d-4b03-ba4f-c72eb0f3c8d0",
   "metadata": {
    "tags": []
   },
   "outputs": [
    {
     "data": {
      "text/html": [
       "<h3>Version Information</h3><table><tr><th>Software</th><th>Version</th></tr><tr><td><code>qiskit</code></td><td>0.44.3</td></tr><tr><td><code>qiskit-terra</code></td><td>0.25.3</td></tr><tr><td><code>qiskit_ibm_provider</code></td><td>0.6.3</td></tr><tr><td><code>qiskit_aer</code></td><td>0.12.2</td></tr><tr><td><code>qiskit_ibm_runtime</code></td><td>0.11.3</td></tr><tr><th colspan='2'>System information</th></tr><tr><td>Python version</td><td>3.10.8</td></tr><tr><td>Python compiler</td><td>GCC 10.4.0</td></tr><tr><td>Python build</td><td>main, Nov 22 2022 08:26:04</td></tr><tr><td>OS</td><td>Linux</td></tr><tr><td>CPUs</td><td>8</td></tr><tr><td>Memory (Gb)</td><td>31.142555236816406</td></tr><tr><td colspan='2'>Fri Dec 15 03:57:19 2023 UTC</td></tr></table>"
      ],
      "text/plain": [
       "<IPython.core.display.HTML object>"
      ]
     },
     "metadata": {},
     "output_type": "display_data"
    },
    {
     "data": {
      "text/html": [
       "<div style='width: 100%; background-color:#d5d9e0;padding-left: 10px; padding-bottom: 10px; padding-right: 10px; padding-top: 5px'><h3>This code is a part of Qiskit</h3><p>&copy; Copyright IBM 2017, 2023.</p><p>This code is licensed under the Apache License, Version 2.0. You may<br>obtain a copy of this license in the LICENSE.txt file in the root directory<br> of this source tree or at http://www.apache.org/licenses/LICENSE-2.0.<p>Any modifications or derivative works of this code must retain this<br>copyright notice, and modified files need to carry a notice indicating<br>that they have been altered from the originals.</p></div>"
      ],
      "text/plain": [
       "<IPython.core.display.HTML object>"
      ]
     },
     "metadata": {},
     "output_type": "display_data"
    }
   ],
   "source": [
    "import qiskit.tools.jupyter\n",
    "\n",
    "%qiskit_version_table\n",
    "%qiskit_copyright"
   ]
  },
  {
   "cell_type": "code",
   "execution_count": 1,
   "id": "18e4676a-89b2-494c-99d3-ab2720dedb4b",
   "metadata": {},
   "outputs": [
    {
     "data": {
      "text/html": [
       "<h3>Version Information</h3><table><tr><th>Qiskit Software</th><th>Version</th></tr><tr><td><code>qiskit-terra</code></td><td>0.22.3</td></tr><tr><td><code>qiskit-aer</code></td><td>0.11.2</td></tr><tr><td><code>qiskit-ibmq-provider</code></td><td>0.19.2</td></tr><tr><td><code>qiskit</code></td><td>0.39.4</td></tr><tr><th>System information</th></tr><tr><td>Python version</td><td>3.10.4</td></tr><tr><td>Python compiler</td><td>Clang 13.1.6 (clang-1316.0.21.2.5)</td></tr><tr><td>Python build</td><td>main, Aug 23 2022 17:14:08</td></tr><tr><td>OS</td><td>Darwin</td></tr><tr><td>CPUs</td><td>4</td></tr><tr><td>Memory (Gb)</td><td>16.0</td></tr><tr><td colspan='2'>Tue Dec 20 12:57:56 2022 JST</td></tr></table>"
      ],
      "text/plain": [
       "<IPython.core.display.HTML object>"
      ]
     },
     "metadata": {},
     "output_type": "display_data"
    },
    {
     "data": {
      "text/html": [
       "<div style='width: 100%; background-color:#d5d9e0;padding-left: 10px; padding-bottom: 10px; padding-right: 10px; padding-top: 5px'><h3>This code is a part of Qiskit</h3><p>&copy; Copyright IBM 2017, 2022.</p><p>This code is licensed under the Apache License, Version 2.0. You may<br>obtain a copy of this license in the LICENSE.txt file in the root directory<br> of this source tree or at http://www.apache.org/licenses/LICENSE-2.0.<p>Any modifications or derivative works of this code must retain this<br>copyright notice, and modified files need to carry a notice indicating<br>that they have been altered from the originals.</p></div>"
      ],
      "text/plain": [
       "<IPython.core.display.HTML object>"
      ]
     },
     "metadata": {},
     "output_type": "display_data"
    }
   ],
   "source": [
    "import qiskit.tools.jupyter\n",
    "%qiskit_version_table\n",
    "%qiskit_copyright"
   ]
  }
 ],
 "metadata": {
  "kernelspec": {
   "display_name": "Python 3 (ipykernel)",
   "language": "python",
   "name": "python3"
  },
  "language_info": {
   "codemirror_mode": {
    "name": "ipython",
    "version": 3
   },
   "file_extension": ".py",
   "mimetype": "text/x-python",
   "name": "python",
   "nbconvert_exporter": "python",
   "pygments_lexer": "ipython3",
   "version": "3.10.8"
  },
  "widgets": {
   "application/vnd.jupyter.widget-state+json": {
    "state": {
     "11df72b6e707477f80da844434a5ac2f": {
      "model_module": "@jupyter-widgets/base",
      "model_module_version": "2.0.0",
      "model_name": "LayoutModel",
      "state": {
       "width": "95px"
      }
     },
     "167d426814dd4588aa282eb24af7c6f8": {
      "model_module": "@jupyter-widgets/controls",
      "model_module_version": "2.0.0",
      "model_name": "HTMLModel",
      "state": {
       "layout": "IPY_MODEL_90d8bb3c810a4436bd6254d53b285fae",
       "style": "IPY_MODEL_68153a81d56443448929912f731a8ea4",
       "value": "<h5>Job ID</h5>"
      }
     },
     "318bd1e38e41489f8935d342251aa3fe": {
      "model_module": "@jupyter-widgets/base",
      "model_module_version": "2.0.0",
      "model_name": "LayoutModel",
      "state": {}
     },
     "35e6268ca6494f629e034575f3dc5266": {
      "model_module": "@jupyter-widgets/base",
      "model_module_version": "2.0.0",
      "model_name": "LayoutModel",
      "state": {
       "width": "70px"
      }
     },
     "36c2eb6e97ff43d3bb53a9d0d457b3a8": {
      "model_module": "@jupyter-widgets/base",
      "model_module_version": "2.0.0",
      "model_name": "LayoutModel",
      "state": {
       "width": "145px"
      }
     },
     "38b4275b95ca4b93af18c3f1a88293aa": {
      "model_module": "@jupyter-widgets/controls",
      "model_module_version": "2.0.0",
      "model_name": "HTMLStyleModel",
      "state": {
       "description_width": "",
       "font_size": null,
       "text_color": null
      }
     },
     "46be99e180094ecd86154d505e6ac8ba": {
      "model_module": "@jupyter-widgets/controls",
      "model_module_version": "2.0.0",
      "model_name": "ButtonStyleModel",
      "state": {
       "font_family": null,
       "font_size": null,
       "font_style": null,
       "font_variant": null,
       "font_weight": null,
       "text_color": null,
       "text_decoration": null
      }
     },
     "651a076c241641139e5e8c0ded8dd045": {
      "model_module": "@jupyter-widgets/base",
      "model_module_version": "2.0.0",
      "model_name": "LayoutModel",
      "state": {
       "margin": "0px 0px 10px 0px"
      }
     },
     "68153a81d56443448929912f731a8ea4": {
      "model_module": "@jupyter-widgets/controls",
      "model_module_version": "2.0.0",
      "model_name": "HTMLStyleModel",
      "state": {
       "description_width": "",
       "font_size": null,
       "text_color": null
      }
     },
     "78be939e06214ff68239bf1f5e1d3876": {
      "model_module": "@jupyter-widgets/controls",
      "model_module_version": "2.0.0",
      "model_name": "HTMLStyleModel",
      "state": {
       "description_width": "",
       "font_size": null,
       "text_color": null
      }
     },
     "8c3bd51caef94304bce28d086c58655b": {
      "model_module": "@jupyter-widgets/controls",
      "model_module_version": "2.0.0",
      "model_name": "HTMLStyleModel",
      "state": {
       "description_width": "",
       "font_size": null,
       "text_color": null
      }
     },
     "90d8bb3c810a4436bd6254d53b285fae": {
      "model_module": "@jupyter-widgets/base",
      "model_module_version": "2.0.0",
      "model_name": "LayoutModel",
      "state": {
       "width": "190px"
      }
     },
     "946d61d80f1e479a855403b97024522b": {
      "model_module": "@jupyter-widgets/controls",
      "model_module_version": "2.0.0",
      "model_name": "HTMLModel",
      "state": {
       "layout": "IPY_MODEL_11df72b6e707477f80da844434a5ac2f",
       "style": "IPY_MODEL_e271fd6884a24748b622e8852fced562",
       "value": "<h5>Status</h5>"
      }
     },
     "aceb28b3818f4145be770122411cefb8": {
      "model_module": "@jupyter-widgets/controls",
      "model_module_version": "2.0.0",
      "model_name": "HTMLModel",
      "state": {
       "layout": "IPY_MODEL_36c2eb6e97ff43d3bb53a9d0d457b3a8",
       "style": "IPY_MODEL_8c3bd51caef94304bce28d086c58655b",
       "value": "<h5>Backend</h5>"
      }
     },
     "c273c2438d4742e296ec97ae795e4daa": {
      "model_module": "@jupyter-widgets/base",
      "model_module_version": "2.0.0",
      "model_name": "LayoutModel",
      "state": {
       "grid_area": "right",
       "padding": "0px 0px 0px 0px",
       "width": "70px"
      }
     },
     "c32b6f11b6b6421c95a94c272b2f48d4": {
      "model_module": "@jupyter-widgets/controls",
      "model_module_version": "2.0.0",
      "model_name": "HTMLModel",
      "state": {
       "layout": "IPY_MODEL_318bd1e38e41489f8935d342251aa3fe",
       "style": "IPY_MODEL_c5b11e7f1e8c4a7fac66f6091766c5ec",
       "value": "<h5>Message</h5>"
      }
     },
     "c5b11e7f1e8c4a7fac66f6091766c5ec": {
      "model_module": "@jupyter-widgets/controls",
      "model_module_version": "2.0.0",
      "model_name": "HTMLStyleModel",
      "state": {
       "description_width": "",
       "font_size": null,
       "text_color": null
      }
     },
     "c8573cf6cfbb4fc69871fa862ebe765d": {
      "model_module": "@jupyter-widgets/base",
      "model_module_version": "2.0.0",
      "model_name": "LayoutModel",
      "state": {
       "margin": "0px 0px 0px 37px",
       "width": "600px"
      }
     },
     "cec79c050c4449a586ffac665076e4f2": {
      "model_module": "@jupyter-widgets/controls",
      "model_module_version": "2.0.0",
      "model_name": "GridBoxModel",
      "state": {
       "children": [
        "IPY_MODEL_f0059bd6396644c28e77c378135cad7d"
       ],
       "layout": "IPY_MODEL_d5aecd07fe9c4490ba478408adfb1c33"
      }
     },
     "d5aecd07fe9c4490ba478408adfb1c33": {
      "model_module": "@jupyter-widgets/base",
      "model_module_version": "2.0.0",
      "model_name": "LayoutModel",
      "state": {
       "grid_template_areas": "\n                                       \". . . . right \"\n                                        ",
       "grid_template_columns": "20% 20% 20% 20% 20%",
       "width": "100%"
      }
     },
     "db441ec1d2f644f5bbf291e9ff79ea0b": {
      "model_module": "@jupyter-widgets/controls",
      "model_module_version": "2.0.0",
      "model_name": "HBoxModel",
      "state": {
       "children": [
        "IPY_MODEL_167d426814dd4588aa282eb24af7c6f8",
        "IPY_MODEL_aceb28b3818f4145be770122411cefb8",
        "IPY_MODEL_946d61d80f1e479a855403b97024522b",
        "IPY_MODEL_fb8d659e95024014afba55878fe2f30a",
        "IPY_MODEL_c32b6f11b6b6421c95a94c272b2f48d4"
       ],
       "layout": "IPY_MODEL_c8573cf6cfbb4fc69871fa862ebe765d"
      }
     },
     "e271fd6884a24748b622e8852fced562": {
      "model_module": "@jupyter-widgets/controls",
      "model_module_version": "2.0.0",
      "model_name": "HTMLStyleModel",
      "state": {
       "description_width": "",
       "font_size": null,
       "text_color": null
      }
     },
     "ef1eb2fba1614875bf2cfeed161f350a": {
      "model_module": "@jupyter-widgets/controls",
      "model_module_version": "2.0.0",
      "model_name": "HTMLModel",
      "state": {
       "layout": "IPY_MODEL_651a076c241641139e5e8c0ded8dd045",
       "style": "IPY_MODEL_38b4275b95ca4b93af18c3f1a88293aa",
       "value": "<p style='font-family: IBM Plex Sans, Arial, Helvetica, sans-serif; font-size: 20px; font-weight: medium;'>Circuit Properties</p>"
      }
     },
     "f0059bd6396644c28e77c378135cad7d": {
      "model_module": "@jupyter-widgets/controls",
      "model_module_version": "2.0.0",
      "model_name": "ButtonModel",
      "state": {
       "button_style": "primary",
       "description": "Clear",
       "layout": "IPY_MODEL_c273c2438d4742e296ec97ae795e4daa",
       "style": "IPY_MODEL_46be99e180094ecd86154d505e6ac8ba",
       "tooltip": null
      }
     },
     "fb8d659e95024014afba55878fe2f30a": {
      "model_module": "@jupyter-widgets/controls",
      "model_module_version": "2.0.0",
      "model_name": "HTMLModel",
      "state": {
       "layout": "IPY_MODEL_35e6268ca6494f629e034575f3dc5266",
       "style": "IPY_MODEL_78be939e06214ff68239bf1f5e1d3876",
       "value": "<h5>Queue</h5>"
      }
     }
    },
    "version_major": 2,
    "version_minor": 0
   }
  }
 },
 "nbformat": 4,
 "nbformat_minor": 5
}
